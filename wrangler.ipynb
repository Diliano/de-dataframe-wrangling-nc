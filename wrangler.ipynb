{
 "cells": [
  {
   "cell_type": "markdown",
   "id": "136d1b9f-a489-40d6-b346-5465d10c4542",
   "metadata": {},
   "source": [
    "# Data Wrangling With Pandas\n",
    "\n",
    "## Task One - Series\n",
    "In the cell below, create a `pandas` Series that contains the populations of the top ten British cities. You can find the necessary data in `data/urban.md`. Print out the series."
   ]
  },
  {
   "cell_type": "code",
   "execution_count": 40,
   "id": "dbe0b49c-040e-4281-97b2-69cb90de4c1e",
   "metadata": {},
   "outputs": [],
   "source": [
    "import pandas as pd"
   ]
  },
  {
   "cell_type": "code",
   "execution_count": 41,
   "id": "c6c1d67a-3187-43ef-b679-0889d842925f",
   "metadata": {},
   "outputs": [
    {
     "data": {
      "text/plain": [
       "London                    10803000\n",
       "Birmingham                 2517000\n",
       "Manchester                 2449000\n",
       "Leeds-Bradford             1659000\n",
       "Glasgow                    1100000\n",
       "Liverpool                   835000\n",
       "Southampton-Portsmouth      805000\n",
       "Newcastle                   719000\n",
       "Nottingham                  719000\n",
       "Sheffield                   603000\n",
       "dtype: int64"
      ]
     },
     "execution_count": 41,
     "metadata": {},
     "output_type": "execute_result"
    }
   ],
   "source": [
    "populations = pd.Series([10803000, 2517000, 2449000, 1659000, 1100000, 835000, 805000, 719000, 719000, 603000], index=[\"London\", \"Birmingham\", \"Manchester\", \"Leeds-Bradford\", \"Glasgow\", \"Liverpool\", \"Southampton-Portsmouth\", \"Newcastle\", \"Nottingham\", \"Sheffield\"])\n",
    "\n",
    "populations"
   ]
  },
  {
   "cell_type": "markdown",
   "id": "8aeaf839-5628-4bcd-83cc-858937bde4bb",
   "metadata": {},
   "source": [
    "Sort the series by alphabetical order creating a new series, and print it out."
   ]
  },
  {
   "cell_type": "code",
   "execution_count": 42,
   "id": "7b15a857-5556-400d-a6eb-10c8a1d3fd90",
   "metadata": {},
   "outputs": [
    {
     "data": {
      "text/plain": [
       "Birmingham                 2517000\n",
       "Glasgow                    1100000\n",
       "Leeds-Bradford             1659000\n",
       "Liverpool                   835000\n",
       "London                    10803000\n",
       "Manchester                 2449000\n",
       "Newcastle                   719000\n",
       "Nottingham                  719000\n",
       "Sheffield                   603000\n",
       "Southampton-Portsmouth      805000\n",
       "dtype: int64"
      ]
     },
     "execution_count": 42,
     "metadata": {},
     "output_type": "execute_result"
    }
   ],
   "source": [
    "sorted = populations.sort_index()\n",
    "\n",
    "sorted"
   ]
  },
  {
   "cell_type": "markdown",
   "id": "798a7761-ba93-41f1-be34-800d68aac5b7",
   "metadata": {},
   "source": [
    "Create and print a series consisting of the second half of the alphabetically-sorted series."
   ]
  },
  {
   "cell_type": "code",
   "execution_count": 43,
   "id": "faa762ae-860e-4430-81e4-018bb3ce33c3",
   "metadata": {},
   "outputs": [
    {
     "data": {
      "text/plain": [
       "Manchester                2449000\n",
       "Newcastle                  719000\n",
       "Nottingham                 719000\n",
       "Sheffield                  603000\n",
       "Southampton-Portsmouth     805000\n",
       "dtype: int64"
      ]
     },
     "execution_count": 43,
     "metadata": {},
     "output_type": "execute_result"
    }
   ],
   "source": [
    "second_half_sorted = sorted.tail()\n",
    "\n",
    "second_half_sorted"
   ]
  },
  {
   "cell_type": "markdown",
   "id": "cebc7ff0-cae4-466f-b50b-4fd4c4f89b08",
   "metadata": {},
   "source": [
    "## Task Two - Dataframes\n",
    "\n",
    "In the cell below, create three new Series for\n",
    "- the top attractions in each city\n",
    "- whether the city is a port\n",
    "- the geographical area of the city in square km\n",
    "\n",
    "From all the series, create a DataFrame than contains all the information about the cities. Include a unique id for each city. Print out the resulting dataframe."
   ]
  },
  {
   "cell_type": "code",
   "execution_count": 44,
   "id": "7c80261c-851f-4334-9cb3-5f8d9607ea3c",
   "metadata": {},
   "outputs": [
    {
     "data": {
      "text/plain": [
       "London                              Big Ben\n",
       "Birmingham                    Cadbury World\n",
       "Manchester                      Northcoders\n",
       "Leeds-Bradford              Royal Armouries\n",
       "Glasgow                         Kelvingrove\n",
       "Liverpool                       Albert Dock\n",
       "Southampton-Portsmouth       Naval Dockyard\n",
       "Newcastle                       Bigg Market\n",
       "Nottingham                Nottingham castle\n",
       "Sheffield                 Botanical Gardens\n",
       "dtype: object"
      ]
     },
     "execution_count": 44,
     "metadata": {},
     "output_type": "execute_result"
    }
   ],
   "source": [
    "attractions_series = pd.Series([\"Big Ben\", \"Cadbury World\", \"Northcoders\", \"Royal Armouries\", \"Kelvingrove\", \"Albert Dock\", \"Naval Dockyard\", \"Bigg Market\", \"Nottingham castle\", \"Botanical Gardens\"], index=[\"London\", \"Birmingham\", \"Manchester\", \"Leeds-Bradford\", \"Glasgow\", \"Liverpool\", \"Southampton-Portsmouth\", \"Newcastle\", \"Nottingham\", \"Sheffield\"])\n",
    "\n",
    "attractions_series"
   ]
  },
  {
   "cell_type": "code",
   "execution_count": 45,
   "id": "c64749d0-bbac-4252-8d2c-090affd99a47",
   "metadata": {},
   "outputs": [
    {
     "data": {
      "text/plain": [
       "London                    Yes\n",
       "Birmingham                 No\n",
       "Manchester                 No\n",
       "Leeds-Bradford             No\n",
       "Glasgow                   Yes\n",
       "Liverpool                 Yes\n",
       "Southampton-Portsmouth    Yes\n",
       "Newcastle                 Yes\n",
       "Nottingham                 No\n",
       "Sheffield                  No\n",
       "dtype: object"
      ]
     },
     "execution_count": 45,
     "metadata": {},
     "output_type": "execute_result"
    }
   ],
   "source": [
    "is_port_series = pd.Series([\"Yes\", \"No\", \"No\", \"No\", \"Yes\", \"Yes\", \"Yes\", \"Yes\", \"No\", \"No\"], index=[\"London\", \"Birmingham\", \"Manchester\", \"Leeds-Bradford\", \"Glasgow\", \"Liverpool\", \"Southampton-Portsmouth\", \"Newcastle\", \"Nottingham\", \"Sheffield\"])\n",
    "\n",
    "is_port_series"
   ]
  },
  {
   "cell_type": "code",
   "execution_count": 46,
   "id": "be4322c1-a87f-459a-80c3-24ea1d401cd7",
   "metadata": {},
   "outputs": [
    {
     "data": {
      "text/plain": [
       "London                    1737.9\n",
       "Birmingham                 598.9\n",
       "Manchester                 630.3\n",
       "Leeds-Bradford             487.8\n",
       "Glasgow                    368.5\n",
       "Liverpool                  199.6\n",
       "Southampton-Portsmouth     192.0\n",
       "Newcastle                  182.0\n",
       "Nottingham                 176.4\n",
       "Sheffield                  167.5\n",
       "dtype: float64"
      ]
     },
     "execution_count": 46,
     "metadata": {},
     "output_type": "execute_result"
    }
   ],
   "source": [
    "geo_area_series = pd.Series([1737.9, 598.9, 630.3, 487.8, 368.5, 199.6, 192, 182.0, 176.4, 167.5], index=[\"London\", \"Birmingham\", \"Manchester\", \"Leeds-Bradford\", \"Glasgow\", \"Liverpool\", \"Southampton-Portsmouth\", \"Newcastle\", \"Nottingham\", \"Sheffield\"])\n",
    "\n",
    "geo_area_series"
   ]
  },
  {
   "cell_type": "code",
   "execution_count": 47,
   "id": "4c5b8ef1-57b8-47f9-b2e8-634d66cc06f6",
   "metadata": {},
   "outputs": [
    {
     "data": {
      "text/html": [
       "<div>\n",
       "<style scoped>\n",
       "    .dataframe tbody tr th:only-of-type {\n",
       "        vertical-align: middle;\n",
       "    }\n",
       "\n",
       "    .dataframe tbody tr th {\n",
       "        vertical-align: top;\n",
       "    }\n",
       "\n",
       "    .dataframe thead th {\n",
       "        text-align: right;\n",
       "    }\n",
       "</style>\n",
       "<table border=\"1\" class=\"dataframe\">\n",
       "  <thead>\n",
       "    <tr style=\"text-align: right;\">\n",
       "      <th></th>\n",
       "      <th>city_name</th>\n",
       "      <th>top_attraction</th>\n",
       "      <th>is_port</th>\n",
       "      <th>geographical_area (sq km)</th>\n",
       "    </tr>\n",
       "  </thead>\n",
       "  <tbody>\n",
       "    <tr>\n",
       "      <th>0</th>\n",
       "      <td>London</td>\n",
       "      <td>Big Ben</td>\n",
       "      <td>Yes</td>\n",
       "      <td>1737.9</td>\n",
       "    </tr>\n",
       "    <tr>\n",
       "      <th>1</th>\n",
       "      <td>Birmingham</td>\n",
       "      <td>Cadbury World</td>\n",
       "      <td>No</td>\n",
       "      <td>598.9</td>\n",
       "    </tr>\n",
       "    <tr>\n",
       "      <th>2</th>\n",
       "      <td>Manchester</td>\n",
       "      <td>Northcoders</td>\n",
       "      <td>No</td>\n",
       "      <td>630.3</td>\n",
       "    </tr>\n",
       "    <tr>\n",
       "      <th>3</th>\n",
       "      <td>Leeds-Bradford</td>\n",
       "      <td>Royal Armouries</td>\n",
       "      <td>No</td>\n",
       "      <td>487.8</td>\n",
       "    </tr>\n",
       "    <tr>\n",
       "      <th>4</th>\n",
       "      <td>Glasgow</td>\n",
       "      <td>Kelvingrove</td>\n",
       "      <td>Yes</td>\n",
       "      <td>368.5</td>\n",
       "    </tr>\n",
       "    <tr>\n",
       "      <th>5</th>\n",
       "      <td>Liverpool</td>\n",
       "      <td>Albert Dock</td>\n",
       "      <td>Yes</td>\n",
       "      <td>199.6</td>\n",
       "    </tr>\n",
       "    <tr>\n",
       "      <th>6</th>\n",
       "      <td>Southampton-Portsmouth</td>\n",
       "      <td>Naval Dockyard</td>\n",
       "      <td>Yes</td>\n",
       "      <td>192.0</td>\n",
       "    </tr>\n",
       "    <tr>\n",
       "      <th>7</th>\n",
       "      <td>Newcastle</td>\n",
       "      <td>Bigg Market</td>\n",
       "      <td>Yes</td>\n",
       "      <td>182.0</td>\n",
       "    </tr>\n",
       "    <tr>\n",
       "      <th>8</th>\n",
       "      <td>Nottingham</td>\n",
       "      <td>Nottingham castle</td>\n",
       "      <td>No</td>\n",
       "      <td>176.4</td>\n",
       "    </tr>\n",
       "    <tr>\n",
       "      <th>9</th>\n",
       "      <td>Sheffield</td>\n",
       "      <td>Botanical Gardens</td>\n",
       "      <td>No</td>\n",
       "      <td>167.5</td>\n",
       "    </tr>\n",
       "  </tbody>\n",
       "</table>\n",
       "</div>"
      ],
      "text/plain": [
       "                city_name     top_attraction is_port  \\\n",
       "0                  London            Big Ben     Yes   \n",
       "1              Birmingham      Cadbury World      No   \n",
       "2              Manchester        Northcoders      No   \n",
       "3          Leeds-Bradford    Royal Armouries      No   \n",
       "4                 Glasgow        Kelvingrove     Yes   \n",
       "5               Liverpool        Albert Dock     Yes   \n",
       "6  Southampton-Portsmouth     Naval Dockyard     Yes   \n",
       "7               Newcastle        Bigg Market     Yes   \n",
       "8              Nottingham  Nottingham castle      No   \n",
       "9               Sheffield  Botanical Gardens      No   \n",
       "\n",
       "   geographical_area (sq km)  \n",
       "0                     1737.9  \n",
       "1                      598.9  \n",
       "2                      630.3  \n",
       "3                      487.8  \n",
       "4                      368.5  \n",
       "5                      199.6  \n",
       "6                      192.0  \n",
       "7                      182.0  \n",
       "8                      176.4  \n",
       "9                      167.5  "
      ]
     },
     "execution_count": 47,
     "metadata": {},
     "output_type": "execute_result"
    }
   ],
   "source": [
    "city_names = [\"London\", \"Birmingham\", \"Manchester\", \"Leeds-Bradford\", \"Glasgow\", \"Liverpool\", \"Southampton-Portsmouth\", \"Newcastle\", \"Nottingham\", \"Sheffield\"]\n",
    "\n",
    "cities = pd.DataFrame({\"top_attraction\": attractions_series, \"is_port\": is_port_series, \"geographical_area (sq km)\": geo_area_series})\n",
    "\n",
    "cities = cities.reset_index(names=[\"city_name\"])\n",
    "\n",
    "cities"
   ]
  },
  {
   "cell_type": "markdown",
   "id": "cbb4d52b-f811-4eb4-8cdb-9eb870802d20",
   "metadata": {},
   "source": [
    "Create and print a dataframe containing the top attractions in cities that are ports. Include only the city id and name."
   ]
  },
  {
   "cell_type": "code",
   "execution_count": 48,
   "id": "6d5224c7-0dfe-4dbc-8768-2924018a80e9",
   "metadata": {},
   "outputs": [
    {
     "data": {
      "text/html": [
       "<div>\n",
       "<style scoped>\n",
       "    .dataframe tbody tr th:only-of-type {\n",
       "        vertical-align: middle;\n",
       "    }\n",
       "\n",
       "    .dataframe tbody tr th {\n",
       "        vertical-align: top;\n",
       "    }\n",
       "\n",
       "    .dataframe thead th {\n",
       "        text-align: right;\n",
       "    }\n",
       "</style>\n",
       "<table border=\"1\" class=\"dataframe\">\n",
       "  <thead>\n",
       "    <tr style=\"text-align: right;\">\n",
       "      <th></th>\n",
       "      <th>city_name</th>\n",
       "      <th>top_attraction</th>\n",
       "    </tr>\n",
       "  </thead>\n",
       "  <tbody>\n",
       "    <tr>\n",
       "      <th>0</th>\n",
       "      <td>London</td>\n",
       "      <td>Big Ben</td>\n",
       "    </tr>\n",
       "    <tr>\n",
       "      <th>4</th>\n",
       "      <td>Glasgow</td>\n",
       "      <td>Kelvingrove</td>\n",
       "    </tr>\n",
       "    <tr>\n",
       "      <th>5</th>\n",
       "      <td>Liverpool</td>\n",
       "      <td>Albert Dock</td>\n",
       "    </tr>\n",
       "    <tr>\n",
       "      <th>6</th>\n",
       "      <td>Southampton-Portsmouth</td>\n",
       "      <td>Naval Dockyard</td>\n",
       "    </tr>\n",
       "    <tr>\n",
       "      <th>7</th>\n",
       "      <td>Newcastle</td>\n",
       "      <td>Bigg Market</td>\n",
       "    </tr>\n",
       "  </tbody>\n",
       "</table>\n",
       "</div>"
      ],
      "text/plain": [
       "                city_name  top_attraction\n",
       "0                  London         Big Ben\n",
       "4                 Glasgow     Kelvingrove\n",
       "5               Liverpool     Albert Dock\n",
       "6  Southampton-Portsmouth  Naval Dockyard\n",
       "7               Newcastle     Bigg Market"
      ]
     },
     "execution_count": 48,
     "metadata": {},
     "output_type": "execute_result"
    }
   ],
   "source": [
    "ports = cities.loc[cities[\"is_port\"] == \"Yes\", [\"city_name\", \"top_attraction\"]]\n",
    "\n",
    "ports"
   ]
  },
  {
   "cell_type": "markdown",
   "id": "167c7f46-966b-40d4-a0e1-1f1ea84bc674",
   "metadata": {},
   "source": [
    "Create a dataframe which includes all the original data plus the population densities (population per square km) for each city and order them from low density to high density."
   ]
  },
  {
   "cell_type": "code",
   "execution_count": 52,
   "id": "726d27c9-c892-4852-80a3-723ce171c4a5",
   "metadata": {},
   "outputs": [
    {
     "data": {
      "text/html": [
       "<div>\n",
       "<style scoped>\n",
       "    .dataframe tbody tr th:only-of-type {\n",
       "        vertical-align: middle;\n",
       "    }\n",
       "\n",
       "    .dataframe tbody tr th {\n",
       "        vertical-align: top;\n",
       "    }\n",
       "\n",
       "    .dataframe thead th {\n",
       "        text-align: right;\n",
       "    }\n",
       "</style>\n",
       "<table border=\"1\" class=\"dataframe\">\n",
       "  <thead>\n",
       "    <tr style=\"text-align: right;\">\n",
       "      <th></th>\n",
       "      <th>city_name</th>\n",
       "      <th>top_attraction</th>\n",
       "      <th>is_port</th>\n",
       "      <th>geographical_area (sq km)</th>\n",
       "      <th>population_density (pop / sq km)</th>\n",
       "    </tr>\n",
       "  </thead>\n",
       "  <tbody>\n",
       "    <tr>\n",
       "      <th>4</th>\n",
       "      <td>Glasgow</td>\n",
       "      <td>Kelvingrove</td>\n",
       "      <td>Yes</td>\n",
       "      <td>368.5</td>\n",
       "      <td>2985.074627</td>\n",
       "    </tr>\n",
       "    <tr>\n",
       "      <th>3</th>\n",
       "      <td>Leeds-Bradford</td>\n",
       "      <td>Royal Armouries</td>\n",
       "      <td>No</td>\n",
       "      <td>487.8</td>\n",
       "      <td>3400.984010</td>\n",
       "    </tr>\n",
       "    <tr>\n",
       "      <th>9</th>\n",
       "      <td>Sheffield</td>\n",
       "      <td>Botanical Gardens</td>\n",
       "      <td>No</td>\n",
       "      <td>167.5</td>\n",
       "      <td>3600.000000</td>\n",
       "    </tr>\n",
       "    <tr>\n",
       "      <th>2</th>\n",
       "      <td>Manchester</td>\n",
       "      <td>Northcoders</td>\n",
       "      <td>No</td>\n",
       "      <td>630.3</td>\n",
       "      <td>3885.451372</td>\n",
       "    </tr>\n",
       "    <tr>\n",
       "      <th>7</th>\n",
       "      <td>Newcastle</td>\n",
       "      <td>Bigg Market</td>\n",
       "      <td>Yes</td>\n",
       "      <td>182.0</td>\n",
       "      <td>3950.549451</td>\n",
       "    </tr>\n",
       "    <tr>\n",
       "      <th>8</th>\n",
       "      <td>Nottingham</td>\n",
       "      <td>Nottingham castle</td>\n",
       "      <td>No</td>\n",
       "      <td>176.4</td>\n",
       "      <td>4075.963719</td>\n",
       "    </tr>\n",
       "    <tr>\n",
       "      <th>5</th>\n",
       "      <td>Liverpool</td>\n",
       "      <td>Albert Dock</td>\n",
       "      <td>Yes</td>\n",
       "      <td>199.6</td>\n",
       "      <td>4183.366733</td>\n",
       "    </tr>\n",
       "    <tr>\n",
       "      <th>6</th>\n",
       "      <td>Southampton-Portsmouth</td>\n",
       "      <td>Naval Dockyard</td>\n",
       "      <td>Yes</td>\n",
       "      <td>192.0</td>\n",
       "      <td>4192.708333</td>\n",
       "    </tr>\n",
       "    <tr>\n",
       "      <th>1</th>\n",
       "      <td>Birmingham</td>\n",
       "      <td>Cadbury World</td>\n",
       "      <td>No</td>\n",
       "      <td>598.9</td>\n",
       "      <td>4202.704959</td>\n",
       "    </tr>\n",
       "    <tr>\n",
       "      <th>0</th>\n",
       "      <td>London</td>\n",
       "      <td>Big Ben</td>\n",
       "      <td>Yes</td>\n",
       "      <td>1737.9</td>\n",
       "      <td>6216.122907</td>\n",
       "    </tr>\n",
       "  </tbody>\n",
       "</table>\n",
       "</div>"
      ],
      "text/plain": [
       "                city_name     top_attraction is_port  \\\n",
       "4                 Glasgow        Kelvingrove     Yes   \n",
       "3          Leeds-Bradford    Royal Armouries      No   \n",
       "9               Sheffield  Botanical Gardens      No   \n",
       "2              Manchester        Northcoders      No   \n",
       "7               Newcastle        Bigg Market     Yes   \n",
       "8              Nottingham  Nottingham castle      No   \n",
       "5               Liverpool        Albert Dock     Yes   \n",
       "6  Southampton-Portsmouth     Naval Dockyard     Yes   \n",
       "1              Birmingham      Cadbury World      No   \n",
       "0                  London            Big Ben     Yes   \n",
       "\n",
       "   geographical_area (sq km)  population_density (pop / sq km)  \n",
       "4                      368.5                       2985.074627  \n",
       "3                      487.8                       3400.984010  \n",
       "9                      167.5                       3600.000000  \n",
       "2                      630.3                       3885.451372  \n",
       "7                      182.0                       3950.549451  \n",
       "8                      176.4                       4075.963719  \n",
       "5                      199.6                       4183.366733  \n",
       "6                      192.0                       4192.708333  \n",
       "1                      598.9                       4202.704959  \n",
       "0                     1737.9                       6216.122907  "
      ]
     },
     "execution_count": 52,
     "metadata": {},
     "output_type": "execute_result"
    }
   ],
   "source": [
    "pops = [10803000, 2517000, 2449000, 1659000, 1100000, 835000, 805000, 719000, 719000, 603000]\n",
    "\n",
    "cities[\"population_density (pop / sq km)\"] = pops / cities[\"geographical_area (sq km)\"]\n",
    "\n",
    "cities_by_pop_dens = cities.sort_values(by=[\"population_density (pop / sq km)\"])\n",
    "\n",
    "cities_by_pop_dens"
   ]
  }
 ],
 "metadata": {
  "kernelspec": {
   "display_name": "Python 3 (ipykernel)",
   "language": "python",
   "name": "python3"
  },
  "language_info": {
   "codemirror_mode": {
    "name": "ipython",
    "version": 3
   },
   "file_extension": ".py",
   "mimetype": "text/x-python",
   "name": "python",
   "nbconvert_exporter": "python",
   "pygments_lexer": "ipython3",
   "version": "3.12.1"
  }
 },
 "nbformat": 4,
 "nbformat_minor": 5
}
