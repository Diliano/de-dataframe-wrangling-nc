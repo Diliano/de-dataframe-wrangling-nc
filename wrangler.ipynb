{
 "cells": [
  {
   "cell_type": "markdown",
   "id": "136d1b9f-a489-40d6-b346-5465d10c4542",
   "metadata": {},
   "source": [
    "# Data Wrangling With Pandas\n",
    "\n",
    "## Task One - Series\n",
    "In the cell below, create a `pandas` Series that contains the populations of the top ten British cities. You can find the necessary data in `data/urban.md`. Print out the series."
   ]
  },
  {
   "cell_type": "code",
   "execution_count": 3,
   "id": "dbe0b49c-040e-4281-97b2-69cb90de4c1e",
   "metadata": {},
   "outputs": [],
   "source": [
    "import pandas as pd"
   ]
  },
  {
   "cell_type": "code",
   "execution_count": 6,
   "id": "c6c1d67a-3187-43ef-b679-0889d842925f",
   "metadata": {},
   "outputs": [
    {
     "data": {
      "text/plain": [
       "London                    10803000\n",
       "Birmingham                 2517000\n",
       "Manchester                 2449000\n",
       "Leeds-Bradford             1659000\n",
       "Glasgow                    1100000\n",
       "Liverpool                   835000\n",
       "Southampton-Portsmouth      805000\n",
       "Newcastle                   719000\n",
       "Nottingham                  719000\n",
       "Sheffield                   603000\n",
       "dtype: int64"
      ]
     },
     "execution_count": 6,
     "metadata": {},
     "output_type": "execute_result"
    }
   ],
   "source": [
    "populations = pd.Series([10803000, 2517000, 2449000, 1659000, 1100000, 835000, 805000, 719000, 719000, 603000], index=[\"London\", \"Birmingham\", \"Manchester\", \"Leeds-Bradford\", \"Glasgow\", \"Liverpool\", \"Southampton-Portsmouth\", \"Newcastle\", \"Nottingham\", \"Sheffield\"])\n",
    "\n",
    "populations"
   ]
  },
  {
   "cell_type": "markdown",
   "id": "8aeaf839-5628-4bcd-83cc-858937bde4bb",
   "metadata": {},
   "source": [
    "Sort the series by alphabetical order creating a new series, and print it out."
   ]
  },
  {
   "cell_type": "code",
   "execution_count": 9,
   "id": "7b15a857-5556-400d-a6eb-10c8a1d3fd90",
   "metadata": {},
   "outputs": [
    {
     "data": {
      "text/plain": [
       "Birmingham                 2517000\n",
       "Glasgow                    1100000\n",
       "Leeds-Bradford             1659000\n",
       "Liverpool                   835000\n",
       "London                    10803000\n",
       "Manchester                 2449000\n",
       "Newcastle                   719000\n",
       "Nottingham                  719000\n",
       "Sheffield                   603000\n",
       "Southampton-Portsmouth      805000\n",
       "dtype: int64"
      ]
     },
     "execution_count": 9,
     "metadata": {},
     "output_type": "execute_result"
    }
   ],
   "source": [
    "sorted = populations.sort_index()\n",
    "\n",
    "sorted"
   ]
  },
  {
   "cell_type": "markdown",
   "id": "798a7761-ba93-41f1-be34-800d68aac5b7",
   "metadata": {},
   "source": [
    "Create and print a series consisting of the second half of the alphabetically-sorted series."
   ]
  },
  {
   "cell_type": "code",
   "execution_count": 10,
   "id": "faa762ae-860e-4430-81e4-018bb3ce33c3",
   "metadata": {},
   "outputs": [
    {
     "data": {
      "text/plain": [
       "Manchester                2449000\n",
       "Newcastle                  719000\n",
       "Nottingham                 719000\n",
       "Sheffield                  603000\n",
       "Southampton-Portsmouth     805000\n",
       "dtype: int64"
      ]
     },
     "execution_count": 10,
     "metadata": {},
     "output_type": "execute_result"
    }
   ],
   "source": [
    "second_half_sorted = sorted.tail()\n",
    "\n",
    "second_half_sorted"
   ]
  },
  {
   "cell_type": "markdown",
   "id": "cebc7ff0-cae4-466f-b50b-4fd4c4f89b08",
   "metadata": {},
   "source": [
    "## Task Two - Dataframes\n",
    "\n",
    "In the cell below, create three new Series for\n",
    "- the top attractions in each city\n",
    "- whether the city is a port\n",
    "- the geographical area of the city in square km\n",
    "\n",
    "From all the series, create a DataFrame than contains all the information about the cities. Include a unique id for each city. Print out the resulting dataframe."
   ]
  },
  {
   "cell_type": "code",
   "execution_count": null,
   "id": "7c80261c-851f-4334-9cb3-5f8d9607ea3c",
   "metadata": {},
   "outputs": [],
   "source": []
  },
  {
   "cell_type": "markdown",
   "id": "cbb4d52b-f811-4eb4-8cdb-9eb870802d20",
   "metadata": {},
   "source": [
    "Create and print a dataframe containing the top attractions in cities that are ports. Include only the city id and name."
   ]
  },
  {
   "cell_type": "code",
   "execution_count": null,
   "id": "6d5224c7-0dfe-4dbc-8768-2924018a80e9",
   "metadata": {},
   "outputs": [],
   "source": []
  },
  {
   "cell_type": "markdown",
   "id": "167c7f46-966b-40d4-a0e1-1f1ea84bc674",
   "metadata": {},
   "source": [
    "Create a dataframe which includes all the original data plus the population densities (population per square km) for each city and order them from low density to high density."
   ]
  },
  {
   "cell_type": "code",
   "execution_count": null,
   "id": "726d27c9-c892-4852-80a3-723ce171c4a5",
   "metadata": {},
   "outputs": [],
   "source": []
  }
 ],
 "metadata": {
  "kernelspec": {
   "display_name": "Python 3 (ipykernel)",
   "language": "python",
   "name": "python3"
  },
  "language_info": {
   "codemirror_mode": {
    "name": "ipython",
    "version": 3
   },
   "file_extension": ".py",
   "mimetype": "text/x-python",
   "name": "python",
   "nbconvert_exporter": "python",
   "pygments_lexer": "ipython3",
   "version": "3.12.1"
  }
 },
 "nbformat": 4,
 "nbformat_minor": 5
}
